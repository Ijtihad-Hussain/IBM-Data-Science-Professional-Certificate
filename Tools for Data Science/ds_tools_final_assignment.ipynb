{
 "cells": [
  {
   "cell_type": "markdown",
   "id": "7eade0ac-8b06-4538-862a-fafbfbc4e0cb",
   "metadata": {},
   "source": [
    "<center>\n",
    "    <img src=\"https://cf-courses-data.s3.us.cloud-object-storage.appdomain.cloud/IBMDeveloperSkillsNetwork-DS0105EN-SkillsNetwork/labs/Module2/images/SN_web_lightmode.png\" width=\"300\" alt=\"cognitiveclass.ai logo\">\n",
    "</center>"
   ]
  },
  {
   "cell_type": "markdown",
   "id": "eb5e7eb2-fe46-4503-8fb1-b711f3b46720",
   "metadata": {},
   "source": [
    "# Data Science Tools_Final Assignment"
   ]
  },
  {
   "cell_type": "markdown",
   "id": "268c6405-b79e-4dc6-937a-42c0c2a6b5b2",
   "metadata": {},
   "source": [
    "## In this notebook, Data Science Tools and Ecosystem are summarized.\n",
    "\n",
    "### Objectives:\n",
    "\n",
    "1. List popular languages for Data Science\n",
    "2. List common used libraries used by Data Scientists\n",
    "3. Tabulate data science tools\n",
    "4. Evaluate arithmetic expressions"
   ]
  },
  {
   "cell_type": "markdown",
   "id": "05346f33-15c9-485f-9bd5-5d7329fac085",
   "metadata": {},
   "source": [
    "### Author\n",
    "#### Ijtihad Hussain"
   ]
  },
  {
   "cell_type": "markdown",
   "id": "ab52b4fe-af57-41e0-8f59-3feb6a84bd87",
   "metadata": {},
   "source": [
    "### Some of the popular languages that Data Scientists use are:\n",
    "\n",
    "1. Python\n",
    "1. R\n",
    "1. SQL\n",
    "1. Julia\n",
    "1. Scala"
   ]
  },
  {
   "cell_type": "markdown",
   "id": "be308d34-018e-47e7-9622-8e602aeb6ccb",
   "metadata": {},
   "source": [
    "### Some of the commonly used libraries used by Data Scientists include:\n",
    "\n",
    "1. NumPy\n",
    "2. Pandas\n",
    "3. Matplotlib\n",
    "4. Scikit-learn\n",
    "5. Tensorflow"
   ]
  },
  {
   "cell_type": "markdown",
   "id": "694961b3-be66-4069-9328-3d2b4ab9b33e",
   "metadata": {},
   "source": [
    "| Data Science Tools |\n",
    "|:--------:|\n",
    "| Jupyter Notebook |\n",
    "| TensorFlow |\n",
    "| Matplotlib |\n",
    "| RStudio |\n",
    "| VS Code |"
   ]
  },
  {
   "cell_type": "markdown",
   "id": "e0788b07-0dcd-4f24-b846-52d3da042dfd",
   "metadata": {},
   "source": [
    "#### arithmetic expression examples"
   ]
  },
  {
   "cell_type": "code",
   "execution_count": 6,
   "id": "81e7ef94-6132-4fe9-a9c0-cb5875c2c65e",
   "metadata": {},
   "outputs": [
    {
     "data": {
      "text/plain": [
       "10.0"
      ]
     },
     "execution_count": 6,
     "metadata": {},
     "output_type": "execute_result"
    }
   ],
   "source": [
    "(4+6)/2*2"
   ]
  },
  {
   "cell_type": "code",
   "execution_count": 7,
   "id": "0751b76c-b4ec-4b34-a226-a215816b99dd",
   "metadata": {},
   "outputs": [
    {
     "data": {
      "text/plain": [
       "3.3333333333333335"
      ]
     },
     "execution_count": 7,
     "metadata": {},
     "output_type": "execute_result"
    }
   ],
   "source": [
    "200/60"
   ]
  },
  {
   "cell_type": "code",
   "execution_count": null,
   "id": "bcf2ccca-4898-48ec-ba70-a4f59e2f53ee",
   "metadata": {},
   "outputs": [],
   "source": []
  }
 ],
 "metadata": {
  "kernelspec": {
   "display_name": "Python 3 (ipykernel)",
   "language": "python",
   "name": "python3"
  },
  "language_info": {
   "codemirror_mode": {
    "name": "ipython",
    "version": 3
   },
   "file_extension": ".py",
   "mimetype": "text/x-python",
   "name": "python",
   "nbconvert_exporter": "python",
   "pygments_lexer": "ipython3",
   "version": "3.11.9"
  }
 },
 "nbformat": 4,
 "nbformat_minor": 5
}
